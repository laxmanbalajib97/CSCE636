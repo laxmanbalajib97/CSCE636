{
  "nbformat": 4,
  "nbformat_minor": 0,
  "metadata": {
    "colab": {
      "name": "Test Activity Detection Model",
      "provenance": [],
      "collapsed_sections": [],
      "toc_visible": true
    },
    "kernelspec": {
      "name": "python3",
      "display_name": "Python 3"
    },
    "accelerator": "GPU"
  },
  "cells": [
    {
      "cell_type": "code",
      "metadata": {
        "id": "D9ctxl7jTXCs",
        "colab_type": "code",
        "outputId": "3d60e27e-4693-41ee-f292-d9cbc0bf223b",
        "colab": {
          "base_uri": "https://localhost:8080/",
          "height": 85
        }
      },
      "source": [
        "!pip install scikit-video"
      ],
      "execution_count": 12,
      "outputs": [
        {
          "output_type": "stream",
          "text": [
            "Requirement already satisfied: scikit-video in /usr/local/lib/python3.6/dist-packages (1.1.11)\n",
            "Requirement already satisfied: pillow in /usr/local/lib/python3.6/dist-packages (from scikit-video) (7.0.0)\n",
            "Requirement already satisfied: numpy in /usr/local/lib/python3.6/dist-packages (from scikit-video) (1.18.2)\n",
            "Requirement already satisfied: scipy in /usr/local/lib/python3.6/dist-packages (from scikit-video) (1.4.1)\n"
          ],
          "name": "stdout"
        }
      ]
    },
    {
      "cell_type": "code",
      "metadata": {
        "id": "YOvnZj8QZ1wX",
        "colab_type": "code",
        "colab": {}
      },
      "source": [
        "videoPath = \"/content/drive/My Drive/DL Project/Data/Test/Rldj-kvNKdQ.mp4\""
      ],
      "execution_count": 0,
      "outputs": []
    },
    {
      "cell_type": "code",
      "metadata": {
        "id": "AkK5xpqOkik_",
        "colab_type": "code",
        "colab": {}
      },
      "source": [
        "fileName = \"Rldj-kvNKdQ\""
      ],
      "execution_count": 0,
      "outputs": []
    },
    {
      "cell_type": "code",
      "metadata": {
        "id": "DTpUp2AAg_u3",
        "colab_type": "code",
        "colab": {}
      },
      "source": [
        "%tensorflow_version 1.x\n",
        "import keras\n",
        "from glob import glob\n",
        "import os"
      ],
      "execution_count": 0,
      "outputs": []
    },
    {
      "cell_type": "code",
      "metadata": {
        "id": "PZf1mUhzQGjj",
        "colab_type": "code",
        "colab": {}
      },
      "source": [
        "import skvideo.io\n",
        "import numpy as np"
      ],
      "execution_count": 0,
      "outputs": []
    },
    {
      "cell_type": "code",
      "metadata": {
        "id": "pz93JwXby-gc",
        "colab_type": "code",
        "outputId": "6b554adf-e6a6-4717-e5d9-7bac2f456463",
        "colab": {
          "base_uri": "https://localhost:8080/",
          "height": 357
        }
      },
      "source": [
        "# load and evaluate a saved model\n",
        "from keras.models import load_model\n",
        " \n",
        "# load model\n",
        "model = load_model('/content/drive/My Drive/DL Project/Trained Model/my_model.h5')\n",
        "# summarize model.\n",
        "model.summary()"
      ],
      "execution_count": 17,
      "outputs": [
        {
          "output_type": "stream",
          "text": [
            "Model: \"sequential_1\"\n",
            "_________________________________________________________________\n",
            "Layer (type)                 Output Shape              Param #   \n",
            "=================================================================\n",
            "time_distributed_1 (TimeDist (None, 5, 7, 7, 512)      14714688  \n",
            "_________________________________________________________________\n",
            "time_distributed_2 (TimeDist (None, 5, 25088)          0         \n",
            "_________________________________________________________________\n",
            "lstm_1 (LSTM)                (None, 256)               25953280  \n",
            "_________________________________________________________________\n",
            "dense_1 (Dense)              (None, 64)                16448     \n",
            "_________________________________________________________________\n",
            "dropout_1 (Dropout)          (None, 64)                0         \n",
            "_________________________________________________________________\n",
            "dense_2 (Dense)              (None, 3)                 195       \n",
            "=================================================================\n",
            "Total params: 40,684,611\n",
            "Trainable params: 33,049,347\n",
            "Non-trainable params: 7,635,264\n",
            "_________________________________________________________________\n"
          ],
          "name": "stdout"
        }
      ]
    },
    {
      "cell_type": "code",
      "metadata": {
        "id": "AmK-FwmAUo7d",
        "colab_type": "code",
        "colab": {}
      },
      "source": [
        "testFrames = skvideo.io.vread(videoPath, height = 224, width = 224)"
      ],
      "execution_count": 0,
      "outputs": []
    },
    {
      "cell_type": "code",
      "metadata": {
        "id": "6AjordjJUyMl",
        "colab_type": "code",
        "colab": {}
      },
      "source": [
        "i = 0\n",
        "fileJson = {}\n",
        "fileJson[fileName] = []\n",
        "while(i<testFrames.shape[0]):\n",
        "  test = testFrames[i:i+5,:,:,:]\n",
        "  test = np.expand_dims(test, axis = 0)\n",
        "  if(test.shape != (1, 5, 224, 224, 3)):\n",
        "    print(\"exiting at \"+str(i))\n",
        "    break\n",
        "  predict = model.predict(test)\n",
        "  if (predict[0][1] > 0.8) or (predict[0][1] > 0.7):\n",
        "    fileJson[fileName].append([str(i),str([0,1]) ] )\n",
        "  else:\n",
        "    fileJson[fileName].append([str(i),str([1,0]) ] )\n",
        "\n",
        "  \n",
        "  i += 5"
      ],
      "execution_count": 0,
      "outputs": []
    },
    {
      "cell_type": "code",
      "metadata": {
        "id": "VkgqT0r_VYxm",
        "colab_type": "code",
        "colab": {}
      },
      "source": [
        "import json\n",
        "\n",
        "with open(\"/content/drive/My Drive/DL Project/Data/Test/\"+fileName+\".json\", \"w\") as outfile: \n",
        "    json.dump(fileJson, outfile) "
      ],
      "execution_count": 0,
      "outputs": []
    },
    {
      "cell_type": "code",
      "metadata": {
        "id": "zEp1xml8Vbsa",
        "colab_type": "code",
        "outputId": "fefdaa9a-d485-4924-93fe-4fa6fb99b939",
        "colab": {
          "base_uri": "https://localhost:8080/",
          "height": 867
        }
      },
      "source": [
        "fileJson"
      ],
      "execution_count": 21,
      "outputs": [
        {
          "output_type": "execute_result",
          "data": {
            "text/plain": [
              "{'Rldj-kvNKdQ': [['0', '[1, 0]'],\n",
              "  ['5', '[1, 0]'],\n",
              "  ['10', '[1, 0]'],\n",
              "  ['15', '[1, 0]'],\n",
              "  ['20', '[1, 0]'],\n",
              "  ['25', '[1, 0]'],\n",
              "  ['30', '[1, 0]'],\n",
              "  ['35', '[1, 0]'],\n",
              "  ['40', '[1, 0]'],\n",
              "  ['45', '[1, 0]'],\n",
              "  ['50', '[1, 0]'],\n",
              "  ['55', '[1, 0]'],\n",
              "  ['60', '[1, 0]'],\n",
              "  ['65', '[1, 0]'],\n",
              "  ['70', '[1, 0]'],\n",
              "  ['75', '[1, 0]'],\n",
              "  ['80', '[1, 0]'],\n",
              "  ['85', '[1, 0]'],\n",
              "  ['90', '[1, 0]'],\n",
              "  ['95', '[1, 0]'],\n",
              "  ['100', '[1, 0]'],\n",
              "  ['105', '[1, 0]'],\n",
              "  ['110', '[1, 0]'],\n",
              "  ['115', '[1, 0]'],\n",
              "  ['120', '[1, 0]'],\n",
              "  ['125', '[1, 0]'],\n",
              "  ['130', '[1, 0]'],\n",
              "  ['135', '[1, 0]'],\n",
              "  ['140', '[1, 0]'],\n",
              "  ['145', '[1, 0]'],\n",
              "  ['150', '[1, 0]'],\n",
              "  ['155', '[1, 0]'],\n",
              "  ['160', '[1, 0]'],\n",
              "  ['165', '[1, 0]'],\n",
              "  ['170', '[1, 0]'],\n",
              "  ['175', '[1, 0]'],\n",
              "  ['180', '[1, 0]'],\n",
              "  ['185', '[1, 0]'],\n",
              "  ['190', '[1, 0]'],\n",
              "  ['195', '[1, 0]'],\n",
              "  ['200', '[1, 0]'],\n",
              "  ['205', '[1, 0]'],\n",
              "  ['210', '[1, 0]'],\n",
              "  ['215', '[1, 0]'],\n",
              "  ['220', '[1, 0]'],\n",
              "  ['225', '[1, 0]'],\n",
              "  ['230', '[1, 0]'],\n",
              "  ['235', '[1, 0]'],\n",
              "  ['240', '[1, 0]'],\n",
              "  ['245', '[1, 0]']]}"
            ]
          },
          "metadata": {
            "tags": []
          },
          "execution_count": 21
        }
      ]
    },
    {
      "cell_type": "code",
      "metadata": {
        "id": "36o0sgk0k8fS",
        "colab_type": "code",
        "outputId": "269c2d83-efb8-4170-fac4-6406cacce297",
        "colab": {
          "base_uri": "https://localhost:8080/",
          "height": 34
        }
      },
      "source": [
        "test.shape"
      ],
      "execution_count": 22,
      "outputs": [
        {
          "output_type": "execute_result",
          "data": {
            "text/plain": [
              "(1, 5, 224, 224, 3)"
            ]
          },
          "metadata": {
            "tags": []
          },
          "execution_count": 22
        }
      ]
    }
  ]
}