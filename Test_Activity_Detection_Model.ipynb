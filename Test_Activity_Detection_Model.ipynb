{
  "nbformat": 4,
  "nbformat_minor": 0,
  "metadata": {
    "colab": {
      "name": "Test Activity Detection Model",
      "provenance": [],
      "collapsed_sections": []
    },
    "kernelspec": {
      "name": "python3",
      "display_name": "Python 3"
    },
    "accelerator": "GPU"
  },
  "cells": [
    {
      "cell_type": "code",
      "metadata": {
        "id": "D9ctxl7jTXCs",
        "colab_type": "code",
        "colab": {}
      },
      "source": [
        "!pip install scikit-video"
      ],
      "execution_count": 0,
      "outputs": []
    },
    {
      "cell_type": "code",
      "metadata": {
        "id": "YOvnZj8QZ1wX",
        "colab_type": "code",
        "colab": {}
      },
      "source": [
        "videoPath = \"/content/drive/My Drive/DL Project/Data/reading book/-DsMpC5_-c4_000027_000037.mp4\""
      ],
      "execution_count": 0,
      "outputs": []
    },
    {
      "cell_type": "code",
      "metadata": {
        "id": "DTpUp2AAg_u3",
        "colab_type": "code",
        "colab": {}
      },
      "source": [
        "import keras\n",
        "from glob import glob\n",
        "import os"
      ],
      "execution_count": 0,
      "outputs": []
    },
    {
      "cell_type": "code",
      "metadata": {
        "id": "PZf1mUhzQGjj",
        "colab_type": "code",
        "colab": {}
      },
      "source": [
        "import skvideo.io\n",
        "import numpy as np"
      ],
      "execution_count": 0,
      "outputs": []
    },
    {
      "cell_type": "code",
      "metadata": {
        "id": "pz93JwXby-gc",
        "colab_type": "code",
        "outputId": "7c6c2088-db56-4a0c-9529-b86449d073cc",
        "colab": {
          "base_uri": "https://localhost:8080/",
          "height": 357
        }
      },
      "source": [
        "# load and evaluate a saved model\n",
        "from keras.models import load_model\n",
        " \n",
        "# load model\n",
        "model = load_model('/content/drive/My Drive/DL Project/my_model.h5')\n",
        "# summarize model.\n",
        "model.summary()"
      ],
      "execution_count": 108,
      "outputs": [
        {
          "output_type": "stream",
          "text": [
            "Model: \"sequential_1\"\n",
            "_________________________________________________________________\n",
            "Layer (type)                 Output Shape              Param #   \n",
            "=================================================================\n",
            "time_distributed_1 (TimeDist (None, 5, 7, 7, 512)      14714688  \n",
            "_________________________________________________________________\n",
            "time_distributed_2 (TimeDist (None, 5, 25088)          0         \n",
            "_________________________________________________________________\n",
            "lstm_1 (LSTM)                (None, 256)               25953280  \n",
            "_________________________________________________________________\n",
            "dense_1 (Dense)              (None, 64)                16448     \n",
            "_________________________________________________________________\n",
            "dropout_1 (Dropout)          (None, 64)                0         \n",
            "_________________________________________________________________\n",
            "dense_2 (Dense)              (None, 2)                 130       \n",
            "=================================================================\n",
            "Total params: 40,684,546\n",
            "Trainable params: 33,049,282\n",
            "Non-trainable params: 7,635,264\n",
            "_________________________________________________________________\n"
          ],
          "name": "stdout"
        }
      ]
    },
    {
      "cell_type": "code",
      "metadata": {
        "id": "t9TUbOXxQEru",
        "colab_type": "code",
        "colab": {}
      },
      "source": [
        "test = np.expand_dims(test, axis = 0)\n",
        "predict = model.predict(test)"
      ],
      "execution_count": 0,
      "outputs": []
    },
    {
      "cell_type": "code",
      "metadata": {
        "id": "jNis536v8JwC",
        "colab_type": "code",
        "outputId": "c43231fe-81b6-4751-dcc4-bb9a12964dc5",
        "colab": {
          "base_uri": "https://localhost:8080/",
          "height": 34
        }
      },
      "source": [
        "predict[0]"
      ],
      "execution_count": 189,
      "outputs": [
        {
          "output_type": "execute_result",
          "data": {
            "text/plain": [
              "array([0., 1.], dtype=float32)"
            ]
          },
          "metadata": {
            "tags": []
          },
          "execution_count": 189
        }
      ]
    },
    {
      "cell_type": "code",
      "metadata": {
        "id": "BhOS4jvfUoAK",
        "colab_type": "code",
        "colab": {
          "base_uri": "https://localhost:8080/",
          "height": 34
        },
        "outputId": "13fc07cd-c645-49a4-8019-ceae0cf431b5"
      },
      "source": [
        "testFrames.shape"
      ],
      "execution_count": 180,
      "outputs": [
        {
          "output_type": "execute_result",
          "data": {
            "text/plain": [
              "(300, 224, 224, 3)"
            ]
          },
          "metadata": {
            "tags": []
          },
          "execution_count": 180
        }
      ]
    },
    {
      "cell_type": "code",
      "metadata": {
        "id": "AmK-FwmAUo7d",
        "colab_type": "code",
        "colab": {}
      },
      "source": [
        "testFrames = skvideo.io.vread(videoPath, height = 224, width = 224)\n"
      ],
      "execution_count": 0,
      "outputs": []
    },
    {
      "cell_type": "code",
      "metadata": {
        "id": "6AjordjJUyMl",
        "colab_type": "code",
        "colab": {}
      },
      "source": [
        "i = 0\n",
        "fileJson = {}\n",
        "fileJson[\"-XlUXlF_8sc_000285_000295.mp4\"] = []\n",
        "while(i<testFrames.shape[0]):\n",
        "  test = testFrames[i:i+5,:,:,:]\n",
        "  test = np.expand_dims(test, axis = 0)\n",
        "  predict = model.predict(test)\n",
        "  fileJson[\"-XlUXlF_8sc_000285_000295.mp4\"].append([str(i),str([predict[0][0],predict[0][1]]) ] )\n",
        "  i += 5"
      ],
      "execution_count": 0,
      "outputs": []
    },
    {
      "cell_type": "code",
      "metadata": {
        "id": "VkgqT0r_VYxm",
        "colab_type": "code",
        "colab": {}
      },
      "source": [
        "import json\n",
        "\n",
        "with open(\"File.json\", \"w\") as outfile: \n",
        "    json.dump(fileJson, outfile) "
      ],
      "execution_count": 0,
      "outputs": []
    },
    {
      "cell_type": "code",
      "metadata": {
        "id": "zEp1xml8Vbsa",
        "colab_type": "code",
        "colab": {
          "base_uri": "https://localhost:8080/",
          "height": 1000
        },
        "outputId": "8a5adc29-4ba5-4217-eb0f-b9c879d49867"
      },
      "source": [
        "fileJson"
      ],
      "execution_count": 217,
      "outputs": [
        {
          "output_type": "execute_result",
          "data": {
            "text/plain": [
              "{'-XlUXlF_8sc_000285_000295.mp4': [[0, [0.0, 1.0]],\n",
              "  [5, [0.0, 1.0]],\n",
              "  [10, [0.0, 1.0]],\n",
              "  [15, [0.0, 1.0]],\n",
              "  [20, [0.0, 1.0]],\n",
              "  [25, [0.0, 1.0]],\n",
              "  [30, [0.0, 1.0]],\n",
              "  [35, [3.998659e-31, 1.0]],\n",
              "  [40, [1.0, 6.110426e-32]],\n",
              "  [45, [1.0, 3.870227e-38]],\n",
              "  [50, [1.0, 3.047029e-21]],\n",
              "  [55, [0.68825185, 0.31174812]],\n",
              "  [60, [1.0, 0.0]],\n",
              "  [65, [1.0, 0.0]],\n",
              "  [70, [1.0, 0.0]],\n",
              "  [75, [1.0, 0.0]],\n",
              "  [80, [0.0, 1.0]],\n",
              "  [85, [0.0, 1.0]],\n",
              "  [90, [0.0, 1.0]],\n",
              "  [95, [0.0, 1.0]],\n",
              "  [100, [0.0, 1.0]],\n",
              "  [105, [0.0, 1.0]],\n",
              "  [110, [0.0, 1.0]],\n",
              "  [115, [0.0, 1.0]],\n",
              "  [120, [0.0, 1.0]],\n",
              "  [125, [0.0, 1.0]],\n",
              "  [130, [0.0, 1.0]],\n",
              "  [135, [0.0, 1.0]],\n",
              "  [140, [0.0, 1.0]],\n",
              "  [145, [0.0, 1.0]],\n",
              "  [150, [0.0, 1.0]],\n",
              "  [155, [0.0, 1.0]],\n",
              "  [160, [0.0, 1.0]],\n",
              "  [165, [3.15559e-19, 1.0]],\n",
              "  [170, [0.0, 1.0]],\n",
              "  [175, [0.0, 1.0]],\n",
              "  [180, [0.0, 1.0]],\n",
              "  [185, [0.0, 1.0]],\n",
              "  [190, [0.0, 1.0]],\n",
              "  [195, [0.0, 1.0]],\n",
              "  [200, [0.0, 1.0]],\n",
              "  [205, [0.0, 1.0]],\n",
              "  [210, [0.0, 1.0]],\n",
              "  [215, [9.308253e-27, 1.0]],\n",
              "  [220, [0.0, 1.0]],\n",
              "  [225, [0.0, 1.0]],\n",
              "  [230, [0.0, 1.0]],\n",
              "  [235, [0.0, 1.0]],\n",
              "  [240, [0.0, 1.0]],\n",
              "  [245, [0.0, 1.0]],\n",
              "  [250, [0.0, 1.0]],\n",
              "  [255, [0.0, 1.0]],\n",
              "  [260, [0.0, 1.0]],\n",
              "  [265, [0.0, 1.0]],\n",
              "  [270, [0.0, 1.0]],\n",
              "  [275, [0.0, 1.0]],\n",
              "  [280, [1.0, 1.8567323e-19]],\n",
              "  [285, [1.0, 9.1998545e-17]],\n",
              "  [290, [7.867811e-27, 1.0]],\n",
              "  [295, [0.0, 1.0]]]}"
            ]
          },
          "metadata": {
            "tags": []
          },
          "execution_count": 217
        }
      ]
    }
  ]
}